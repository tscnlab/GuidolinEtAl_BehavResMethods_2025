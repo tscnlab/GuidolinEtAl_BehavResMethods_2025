{
 "cells": [
  {
   "cell_type": "markdown",
   "metadata": {},
   "source": [
    "Code for calculating non wear time "
   ]
  },
  {
   "cell_type": "markdown",
   "metadata": {},
   "source": [
    "Having  df with columns (3 initial column not relevant, and then): wearlog_off, wearlog_on, wearlog_bed, radius, wearlogbag, wearlog_place, wearlog_motion, wearlog_past, wearlog_bp, wearlog_past_off, wearlog_past_on, wearlog_past_sleep, radius_past_time, radius_past, radius_past_back, wearlog_past_bag, wearlog_past_motion, startdate, enddate\n",
    "\n",
    "And rows corresponding to an event being reported\n",
    "\n",
    "I want to make a loop where rows are checked one by one and then\n",
    "if an event is detected in columns wearlog_past to wearlog_past_motion -> return a message that says that event was past \n",
    "\n",
    "else: check column wearlog on and take value of that row (timestamp value)\n",
    "if previous row has a value in wearlog_off = take the difference wearlog_on - wearlog_off"
   ]
  },
  {
   "cell_type": "code",
   "execution_count": 46,
   "metadata": {},
   "outputs": [],
   "source": [
    "import pandas as pd\n",
    "import os"
   ]
  },
  {
   "cell_type": "code",
   "execution_count": 47,
   "metadata": {},
   "outputs": [],
   "source": [
    "path = r'D:\\cyepi\\data\\raw\\individual\\201\\continuous\\wearlog'\n",
    "\n",
    "file_path = os.path.join(r'D:\\cyepi\\data\\raw\\individual\\201\\continuous\\wearlog', '201_wearlog_all.csv')\n",
    "wearlog201 = pd.read_csv(file_path, encoding='latin-1', sep=';')"
   ]
  },
  {
   "cell_type": "code",
   "execution_count": 48,
   "metadata": {},
   "outputs": [],
   "source": [
    "wearlog201['wearlog_on'] = pd.to_datetime(wearlog201['wearlog_on'])\n",
    "wearlog201['wearlog_off'] = pd.to_datetime(wearlog201['wearlog_off'])\n",
    "wearlog201['wearlog_bed'] = pd.to_datetime(wearlog201['wearlog_bed'])"
   ]
  },
  {
   "cell_type": "code",
   "execution_count": 24,
   "metadata": {},
   "outputs": [],
   "source": [
    "# Initialize a list to store messages\n",
    "messages = []"
   ]
  },
  {
   "cell_type": "code",
   "execution_count": 20,
   "metadata": {},
   "outputs": [],
   "source": [
    "def pastevent(dataframe):\n",
    "    for index, row in dataframe.iterrows():\n",
    "    # Check if an event was reported in wearlog_past to wearlog_past_motion\n",
    "        if row['wearlog_past'] == 1 or row['wearlog_past_off'] == 1 or row['wearlog_past_on'] == 1 or row['wearlog_past_motion'] == 1:\n",
    "            return event was in the past \n",
    "    "
   ]
  },
  {
   "cell_type": "code",
   "execution_count": 51,
   "metadata": {},
   "outputs": [
    {
     "name": "stdout",
     "output_type": "stream",
     "text": [
      "    record_id  wearlog_type  wearlog_event         wearlog_off  \\\n",
      "0         201           NaN            NaN                 NaT   \n",
      "1         201           0.0            1.0                 NaT   \n",
      "2         201           0.0            0.0 2023-08-14 17:40:00   \n",
      "3         201           0.0            1.0                 NaT   \n",
      "4         201           0.0            0.0 2023-08-14 22:38:00   \n",
      "..        ...           ...            ...                 ...   \n",
      "63        201           0.0            0.0 2023-08-20 17:07:00   \n",
      "64        201           0.0            1.0                 NaT   \n",
      "65        201           0.0            0.0 2023-08-20 22:52:00   \n",
      "66        201           0.0            2.0                 NaT   \n",
      "67        201           0.0            1.0                 NaT   \n",
      "\n",
      "            wearlog_on         wearlog_bed  radius  wearlog_bag wearlog_place  \\\n",
      "0                  NaT                 NaT     NaN          NaN           NaN   \n",
      "1  2023-08-14 12:40:00                 NaT     NaN          NaN           NaN   \n",
      "2                  NaT                 NaT     NaN          0.0     work desk   \n",
      "3  2023-08-14 17:45:00                 NaT     NaN          NaN           NaN   \n",
      "4                  NaT                 NaT     NaN          1.0           NaN   \n",
      "..                 ...                 ...     ...          ...           ...   \n",
      "63                 NaT                 NaT     NaN          0.0    windowsill   \n",
      "64 2023-08-20 17:23:00                 NaT     NaN          NaN           NaN   \n",
      "65                 NaT                 NaT     NaN          0.0          desk   \n",
      "66                 NaT 2023-08-20 23:28:00     NaN          NaN           NaN   \n",
      "67 2023-08-21 07:31:00                 NaT     NaN          NaN           NaN   \n",
      "\n",
      "    wearlog_motion  ...  wearlog_past_sleep  radius_past_time  radius_past  \\\n",
      "0              NaN  ...                 NaN               NaN          NaN   \n",
      "1              NaN  ...                 NaN               NaN          NaN   \n",
      "2              0.0  ...                 NaN               NaN          NaN   \n",
      "3              NaN  ...                 NaN               NaN          NaN   \n",
      "4              0.0  ...                 NaN               NaN          NaN   \n",
      "..             ...  ...                 ...               ...          ...   \n",
      "63             0.0  ...                 NaN               NaN          NaN   \n",
      "64             NaN  ...                 NaN               NaN          NaN   \n",
      "65             0.0  ...                 NaN               NaN          NaN   \n",
      "66             NaN  ...                 NaN               NaN          NaN   \n",
      "67             NaN  ...                 NaN               NaN          NaN   \n",
      "\n",
      "    radius_past_back  wearlog_past_bag  wearlog_past_location  \\\n",
      "0                NaN               NaN                    NaN   \n",
      "1                NaN               NaN                    NaN   \n",
      "2                NaN               NaN                    NaN   \n",
      "3                NaN               NaN                    NaN   \n",
      "4                NaN               NaN                    NaN   \n",
      "..               ...               ...                    ...   \n",
      "63               NaN               NaN                    NaN   \n",
      "64               NaN               NaN                    NaN   \n",
      "65               NaN               NaN                    NaN   \n",
      "66               NaN               NaN                    NaN   \n",
      "67               NaN               NaN                    NaN   \n",
      "\n",
      "    wearlog_past_motion            startdate              enddate  \\\n",
      "0                   NaN                  NaN                  NaN   \n",
      "1                   NaN  2023-08-14 12:40:26  2023-08-14 12:40:36   \n",
      "2                   NaN  2023-08-14 17:40:40  2023-08-14 17:41:11   \n",
      "3                   NaN  2023-08-14 17:45:26  2023-08-14 17:45:32   \n",
      "4                   NaN  2023-08-14 22:38:42  2023-08-14 22:39:26   \n",
      "..                  ...                  ...                  ...   \n",
      "63                  NaN  2023-08-20 17:07:57  2023-08-20 17:22:58   \n",
      "64                  NaN  2023-08-20 17:23:00  2023-08-20 17:23:06   \n",
      "65                  NaN  2023-08-20 22:52:05  2023-08-20 22:52:16   \n",
      "66                  NaN  2023-08-20 23:28:56  2023-08-20 23:29:02   \n",
      "67                  NaN  2023-08-21 07:31:40  2023-08-21 07:31:45   \n",
      "\n",
      "    accumulated_nonwear  \n",
      "0                   NaN  \n",
      "1                   NaN  \n",
      "2                   NaN  \n",
      "3                   NaN  \n",
      "4                   NaN  \n",
      "..                  ...  \n",
      "63                  NaN  \n",
      "64                  NaN  \n",
      "65                  NaN  \n",
      "66                  NaN  \n",
      "67                  NaN  \n",
      "\n",
      "[68 rows x 24 columns]\n"
     ]
    }
   ],
   "source": [
    "def nonwear(dataframe):\n",
    "    deltanonwear = pd.Timedelta(0) \n",
    "\n",
    "    for index, row in dataframe.iterrows():\n",
    "        if index > 0 and  row['wearlog_type'] == '0':\n",
    "            if row['wearlog_event'] == 1 and dataframe.loc[index - 1, dataframe['wearlog_event'] == 0]:\n",
    "                if acccumulating:\n",
    "                    timediff = row['wearlog_on'] - dataframe.loc[index - 1, 'wearlog_off']\n",
    "                    deltanonwear += timediff\n",
    "            elif not pd.isnull(row['wearlog_bed']):\n",
    "                accumulating = not accumulating\n",
    "                accumulated_values.append(deltanonwear.total_seconds() / 3600)  # Store accumulated value in hours\n",
    "                deltanonwear = pd.Timedelta(0)  # Reset deltanonwear    \n",
    "   \n",
    "    return accumulated_values\n",
    "\n",
    "wearlog201['accumulated_nonwear'] = pd.Series(nonwear(wearlog201))\n",
    "\n",
    "print(wearlog201)"
   ]
  },
  {
   "cell_type": "code",
   "execution_count": 29,
   "metadata": {},
   "outputs": [
    {
     "ename": "ValueError",
     "evalue": "Length of values (96) does not match length of index (68)",
     "output_type": "error",
     "traceback": [
      "\u001b[1;31m---------------------------------------------------------------------------\u001b[0m",
      "\u001b[1;31mValueError\u001b[0m                                Traceback (most recent call last)",
      "Cell \u001b[1;32mIn[29], line 2\u001b[0m\n\u001b[0;32m      1\u001b[0m \u001b[39m# Add the messages to the DataFrame\u001b[39;00m\n\u001b[1;32m----> 2\u001b[0m wearlog201[\u001b[39m'\u001b[39;49m\u001b[39mmessages\u001b[39;49m\u001b[39m'\u001b[39;49m] \u001b[39m=\u001b[39m messages\n\u001b[0;32m      4\u001b[0m \u001b[39m# Print or display the updated DataFrame\u001b[39;00m\n\u001b[0;32m      5\u001b[0m \u001b[39mprint\u001b[39m(wearlog201)\n",
      "File \u001b[1;32mc:\\Users\\cguidolin\\AppData\\Local\\anaconda3\\envs\\blub\\Lib\\site-packages\\pandas\\core\\frame.py:3950\u001b[0m, in \u001b[0;36mDataFrame.__setitem__\u001b[1;34m(self, key, value)\u001b[0m\n\u001b[0;32m   3947\u001b[0m     \u001b[39mself\u001b[39m\u001b[39m.\u001b[39m_setitem_array([key], value)\n\u001b[0;32m   3948\u001b[0m \u001b[39melse\u001b[39;00m:\n\u001b[0;32m   3949\u001b[0m     \u001b[39m# set column\u001b[39;00m\n\u001b[1;32m-> 3950\u001b[0m     \u001b[39mself\u001b[39;49m\u001b[39m.\u001b[39;49m_set_item(key, value)\n",
      "File \u001b[1;32mc:\\Users\\cguidolin\\AppData\\Local\\anaconda3\\envs\\blub\\Lib\\site-packages\\pandas\\core\\frame.py:4143\u001b[0m, in \u001b[0;36mDataFrame._set_item\u001b[1;34m(self, key, value)\u001b[0m\n\u001b[0;32m   4133\u001b[0m \u001b[39mdef\u001b[39;00m \u001b[39m_set_item\u001b[39m(\u001b[39mself\u001b[39m, key, value) \u001b[39m-\u001b[39m\u001b[39m>\u001b[39m \u001b[39mNone\u001b[39;00m:\n\u001b[0;32m   4134\u001b[0m \u001b[39m    \u001b[39m\u001b[39m\"\"\"\u001b[39;00m\n\u001b[0;32m   4135\u001b[0m \u001b[39m    Add series to DataFrame in specified column.\u001b[39;00m\n\u001b[0;32m   4136\u001b[0m \n\u001b[1;32m   (...)\u001b[0m\n\u001b[0;32m   4141\u001b[0m \u001b[39m    ensure homogeneity.\u001b[39;00m\n\u001b[0;32m   4142\u001b[0m \u001b[39m    \"\"\"\u001b[39;00m\n\u001b[1;32m-> 4143\u001b[0m     value \u001b[39m=\u001b[39m \u001b[39mself\u001b[39;49m\u001b[39m.\u001b[39;49m_sanitize_column(value)\n\u001b[0;32m   4145\u001b[0m     \u001b[39mif\u001b[39;00m (\n\u001b[0;32m   4146\u001b[0m         key \u001b[39min\u001b[39;00m \u001b[39mself\u001b[39m\u001b[39m.\u001b[39mcolumns\n\u001b[0;32m   4147\u001b[0m         \u001b[39mand\u001b[39;00m value\u001b[39m.\u001b[39mndim \u001b[39m==\u001b[39m \u001b[39m1\u001b[39m\n\u001b[0;32m   4148\u001b[0m         \u001b[39mand\u001b[39;00m \u001b[39mnot\u001b[39;00m is_extension_array_dtype(value)\n\u001b[0;32m   4149\u001b[0m     ):\n\u001b[0;32m   4150\u001b[0m         \u001b[39m# broadcast across multiple columns if necessary\u001b[39;00m\n\u001b[0;32m   4151\u001b[0m         \u001b[39mif\u001b[39;00m \u001b[39mnot\u001b[39;00m \u001b[39mself\u001b[39m\u001b[39m.\u001b[39mcolumns\u001b[39m.\u001b[39mis_unique \u001b[39mor\u001b[39;00m \u001b[39misinstance\u001b[39m(\u001b[39mself\u001b[39m\u001b[39m.\u001b[39mcolumns, MultiIndex):\n",
      "File \u001b[1;32mc:\\Users\\cguidolin\\AppData\\Local\\anaconda3\\envs\\blub\\Lib\\site-packages\\pandas\\core\\frame.py:4870\u001b[0m, in \u001b[0;36mDataFrame._sanitize_column\u001b[1;34m(self, value)\u001b[0m\n\u001b[0;32m   4867\u001b[0m     \u001b[39mreturn\u001b[39;00m _reindex_for_setitem(Series(value), \u001b[39mself\u001b[39m\u001b[39m.\u001b[39mindex)\n\u001b[0;32m   4869\u001b[0m \u001b[39mif\u001b[39;00m is_list_like(value):\n\u001b[1;32m-> 4870\u001b[0m     com\u001b[39m.\u001b[39;49mrequire_length_match(value, \u001b[39mself\u001b[39;49m\u001b[39m.\u001b[39;49mindex)\n\u001b[0;32m   4871\u001b[0m \u001b[39mreturn\u001b[39;00m sanitize_array(value, \u001b[39mself\u001b[39m\u001b[39m.\u001b[39mindex, copy\u001b[39m=\u001b[39m\u001b[39mTrue\u001b[39;00m, allow_2d\u001b[39m=\u001b[39m\u001b[39mTrue\u001b[39;00m)\n",
      "File \u001b[1;32mc:\\Users\\cguidolin\\AppData\\Local\\anaconda3\\envs\\blub\\Lib\\site-packages\\pandas\\core\\common.py:576\u001b[0m, in \u001b[0;36mrequire_length_match\u001b[1;34m(data, index)\u001b[0m\n\u001b[0;32m    572\u001b[0m \u001b[39m\u001b[39m\u001b[39m\"\"\"\u001b[39;00m\n\u001b[0;32m    573\u001b[0m \u001b[39mCheck the length of data matches the length of the index.\u001b[39;00m\n\u001b[0;32m    574\u001b[0m \u001b[39m\"\"\"\u001b[39;00m\n\u001b[0;32m    575\u001b[0m \u001b[39mif\u001b[39;00m \u001b[39mlen\u001b[39m(data) \u001b[39m!=\u001b[39m \u001b[39mlen\u001b[39m(index):\n\u001b[1;32m--> 576\u001b[0m     \u001b[39mraise\u001b[39;00m \u001b[39mValueError\u001b[39;00m(\n\u001b[0;32m    577\u001b[0m         \u001b[39m\"\u001b[39m\u001b[39mLength of values \u001b[39m\u001b[39m\"\u001b[39m\n\u001b[0;32m    578\u001b[0m         \u001b[39mf\u001b[39m\u001b[39m\"\u001b[39m\u001b[39m(\u001b[39m\u001b[39m{\u001b[39;00m\u001b[39mlen\u001b[39m(data)\u001b[39m}\u001b[39;00m\u001b[39m) \u001b[39m\u001b[39m\"\u001b[39m\n\u001b[0;32m    579\u001b[0m         \u001b[39m\"\u001b[39m\u001b[39mdoes not match length of index \u001b[39m\u001b[39m\"\u001b[39m\n\u001b[0;32m    580\u001b[0m         \u001b[39mf\u001b[39m\u001b[39m\"\u001b[39m\u001b[39m(\u001b[39m\u001b[39m{\u001b[39;00m\u001b[39mlen\u001b[39m(index)\u001b[39m}\u001b[39;00m\u001b[39m)\u001b[39m\u001b[39m\"\u001b[39m\n\u001b[0;32m    581\u001b[0m     )\n",
      "\u001b[1;31mValueError\u001b[0m: Length of values (96) does not match length of index (68)"
     ]
    }
   ],
   "source": [
    "# Add the messages to the DataFrame\n",
    "wearlog201['messages'] = messages\n",
    "\n",
    "# Print or display the updated DataFrame\n",
    "print(wearlog201)"
   ]
  }
 ],
 "metadata": {
  "kernelspec": {
   "display_name": "blub",
   "language": "python",
   "name": "python3"
  },
  "language_info": {
   "codemirror_mode": {
    "name": "ipython",
    "version": 3
   },
   "file_extension": ".py",
   "mimetype": "text/x-python",
   "name": "python",
   "nbconvert_exporter": "python",
   "pygments_lexer": "ipython3",
   "version": "3.11.4"
  },
  "orig_nbformat": 4
 },
 "nbformat": 4,
 "nbformat_minor": 2
}
